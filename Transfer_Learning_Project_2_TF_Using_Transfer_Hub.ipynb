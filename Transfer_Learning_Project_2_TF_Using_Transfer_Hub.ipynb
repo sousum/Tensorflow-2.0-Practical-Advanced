{
  "nbformat": 4,
  "nbformat_minor": 0,
  "metadata": {
    "colab": {
      "name": "Transfer Learning Project 2 - TF Using Transfer Hub.ipynb",
      "provenance": [],
      "collapsed_sections": []
    },
    "kernelspec": {
      "name": "python3",
      "display_name": "Python 3"
    },
    "accelerator": "GPU"
  },
  "cells": [
    {
      "cell_type": "markdown",
      "metadata": {
        "id": "JnKRe0p9h35K"
      },
      "source": [
        "# STEP #0: PROBLEM STATEMENT  "
      ]
    },
    {
      "cell_type": "markdown",
      "metadata": {
        "id": "Ll4dJoqibSQL"
      },
      "source": [
        "- Transfer learning is a machine learning technique in which intelligence (i.e.: weights) from a base artificial neural network is being transferred to a new network as a starting point to perform a specific task. \n",
        "- Transfer learning is a key skill to acquire as a data scientist since it can dramatically reduce the computational time required if the network is being trained from scratch (i.e.: starting from purely random weights). \n",
        "- In this project, we are going to use a trained ANN known as MobileNet that come readily trained/available from TF 2.0 Hub\n",
        "- We are going to use TensorFlow Flowers dataset \n",
        "- This code is based on TensorFlow 2.0 Hub documentation: \n",
        "https://www.tensorflow.org/beta/tutorials/images/hub_with_keras\n"
      ]
    },
    {
      "cell_type": "markdown",
      "metadata": {
        "id": "fr6pOOh0hHaj"
      },
      "source": [
        "# STEP #1: IMPORT LIBRARIES"
      ]
    },
    {
      "cell_type": "code",
      "metadata": {
        "id": "PcsD7hiN_XXL"
      },
      "source": [
        "import tensorflow as tf"
      ],
      "execution_count": null,
      "outputs": []
    },
    {
      "cell_type": "code",
      "metadata": {
        "id": "QqPjanlXkVzi"
      },
      "source": [
        "import pandas as pd\n",
        "import numpy as np\n",
        "import matplotlib.pyplot as plt\n",
        "import seaborn as sns\n",
        "import random \n"
      ],
      "execution_count": null,
      "outputs": []
    },
    {
      "cell_type": "code",
      "metadata": {
        "id": "mlaQY5jSI0TK"
      },
      "source": [
        "!pip install tensorflow_hub\n",
        "import tensorflow_hub as hub\n"
      ],
      "execution_count": null,
      "outputs": []
    },
    {
      "cell_type": "markdown",
      "metadata": {
        "id": "qqOSkGp9R55q"
      },
      "source": [
        "# STEP #2: IMPORT MOBILENET WITH PRE-TRAINED WEIGHTS FROM TF 2.0 HUB"
      ]
    },
    {
      "cell_type": "code",
      "metadata": {
        "id": "QstmEVyoI3fM"
      },
      "source": [
        "Trained_MobileNet_url =\"https://tfhub.dev/google/tf2-preview/mobilenet_v2/classification/2\" #@param {type:\"string\"}"
      ],
      "execution_count": null,
      "outputs": []
    },
    {
      "cell_type": "code",
      "metadata": {
        "id": "tLOiqgUsI3co"
      },
      "source": [
        "Trained_MobileNet = tf.keras.Sequential([\n",
        "    hub.KerasLayer(Trained_MobileNet_url, input_shape=(224,224,3))])"
      ],
      "execution_count": null,
      "outputs": []
    },
    {
      "cell_type": "markdown",
      "metadata": {
        "id": "jWb45OshSDsr"
      },
      "source": [
        "# STEP #3: EVALUATE PRE-TRAINED MOBILENET (JUST TO BE SURE :)!)"
      ]
    },
    {
      "cell_type": "markdown",
      "metadata": {
        "id": "-cfqEXakjdjd"
      },
      "source": [
        "- Check this out: http://www.image-net.org/synset?wnid=n02835271\n",
        "- Search for Bicycle\n",
        "- https://lear.inrialpes.fr/people/gordo/ImageNetResults/sift1000_accuracy_withPrior/results_sift_0253.htm"
      ]
    },
    {
      "cell_type": "code",
      "metadata": {
        "id": "IFhOG8Pjkue2"
      },
      "source": [
        "from google.colab import drive\n",
        "drive.mount('/content/drive')"
      ],
      "execution_count": null,
      "outputs": []
    },
    {
      "cell_type": "code",
      "metadata": {
        "id": "uU_Nd2zQjjuB"
      },
      "source": [
        "Sample_Image= tf.keras.preprocessing.image.load_img(r'/content/drive/My Drive/Colab Notebooks/TF 2.0 Advanced/Transfer Learning Data/watch.jpg', target_size = (224, 224))"
      ],
      "execution_count": null,
      "outputs": []
    },
    {
      "cell_type": "code",
      "metadata": {
        "id": "Po32oDA3jjpt"
      },
      "source": [
        "plt.imshow(Sample_Image)"
      ],
      "execution_count": null,
      "outputs": []
    },
    {
      "cell_type": "code",
      "metadata": {
        "id": "NUjlzcIBMAGS"
      },
      "source": [
        "Sample_Image = np.array(Sample_Image)/255.0\n"
      ],
      "execution_count": null,
      "outputs": []
    },
    {
      "cell_type": "code",
      "metadata": {
        "id": "OTP6Hctuj4uA"
      },
      "source": [
        "predicted_class = Trained_MobileNet.predict(np.expand_dims(Sample_Image, axis = 0))"
      ],
      "execution_count": null,
      "outputs": []
    },
    {
      "cell_type": "code",
      "metadata": {
        "id": "MY9qqJialIJf"
      },
      "source": [
        "predicted_class"
      ],
      "execution_count": null,
      "outputs": []
    },
    {
      "cell_type": "code",
      "metadata": {
        "id": "MZ8GBED6lOOt"
      },
      "source": [
        "predicted_class.shape"
      ],
      "execution_count": null,
      "outputs": []
    },
    {
      "cell_type": "code",
      "metadata": {
        "id": "KbuAglBllX4M"
      },
      "source": [
        "predicted_class = np.argmax(predicted_class)\n",
        "predicted_class"
      ],
      "execution_count": null,
      "outputs": []
    },
    {
      "cell_type": "code",
      "metadata": {
        "id": "MaRti9nLKzFu"
      },
      "source": [
        "labels_path = tf.keras.utils.get_file('ImageNetLabels.txt','https://storage.googleapis.com/download.tensorflow.org/data/ImageNetLabels.txt')\n",
        "imagenet_labels = np.array(open(labels_path).read().splitlines())"
      ],
      "execution_count": null,
      "outputs": []
    },
    {
      "cell_type": "code",
      "metadata": {
        "id": "m7rt5rtYKzDS"
      },
      "source": [
        "plt.imshow(Sample_Image)\n",
        "predicted_class_name = imagenet_labels[predicted_class]\n",
        "plt.title(\"Predicted Class is: \" + predicted_class_name.title())"
      ],
      "execution_count": null,
      "outputs": []
    },
    {
      "cell_type": "markdown",
      "metadata": {
        "id": "Bh5YVgd3NJkz"
      },
      "source": [
        "# STEP #4: LET'S TEST THE MODEL ON A BATCH OF IMAGES"
      ]
    },
    {
      "cell_type": "code",
      "metadata": {
        "id": "FJacLTCdNIJr"
      },
      "source": [
        "# Specify path of the flowers dataset\n",
        "flowers_data_url = tf.keras.utils.get_file(\n",
        "  'flower_photos','https://storage.googleapis.com/download.tensorflow.org/example_images/flower_photos.tgz',\n",
        "   untar=True)"
      ],
      "execution_count": null,
      "outputs": []
    },
    {
      "cell_type": "code",
      "metadata": {
        "id": "M3DIaDZINPMu"
      },
      "source": [
        "image_generator = tf.keras.preprocessing.image.ImageDataGenerator(rescale=1/255)\n",
        "flowers_data = image_generator.flow_from_directory(str(flowers_data_url), target_size=(224,224), batch_size = 64, shuffle = True)"
      ],
      "execution_count": null,
      "outputs": []
    },
    {
      "cell_type": "code",
      "metadata": {
        "id": "MIm6LLObDcgV"
      },
      "source": [
        "for flowers_data_input_batch, flowers_data_label_batch in flowers_data:\n",
        "  print(\"Image batch shape: \", flowers_data_input_batch.shape)\n",
        "  print(\"Label batch shape: \", flowers_data_label_batch.shape)\n",
        "  break"
      ],
      "execution_count": null,
      "outputs": []
    },
    {
      "cell_type": "code",
      "metadata": {
        "id": "Uf2tCdV5Nsez"
      },
      "source": [
        "predictions_batch = Trained_MobileNet.predict(flowers_data_input_batch)\n",
        "predictions_batch.shape"
      ],
      "execution_count": null,
      "outputs": []
    },
    {
      "cell_type": "code",
      "metadata": {
        "id": "jo8YZJYBNtNJ"
      },
      "source": [
        "predicted_class_names = imagenet_labels[np.argmax(predictions_batch, axis=-1)]\n",
        "predicted_class_names"
      ],
      "execution_count": null,
      "outputs": []
    },
    {
      "cell_type": "code",
      "metadata": {
        "id": "R_h8OMmmNubP"
      },
      "source": [
        "plt.figure(figsize=(15,15))\n",
        "\n",
        "for n in range(64):\n",
        "  plt.subplot(8,8,n+1)\n",
        "  plt.imshow(flowers_data_input_batch[n])\n",
        "  plt.title(predicted_class_names[n])\n",
        "  plt.axis('off')\n",
        "\n",
        "# Network performance is poor because it wasn't even trained to clasify these types of flowers!"
      ],
      "execution_count": null,
      "outputs": []
    },
    {
      "cell_type": "markdown",
      "metadata": {
        "id": "H38yzWMAn7hu"
      },
      "source": [
        "# STEP #5: APPLY TRANSFER LEARNING AND RETRAIN THE MODEL"
      ]
    },
    {
      "cell_type": "markdown",
      "metadata": {
        "id": "9Dquw5ACtcFr"
      },
      "source": [
        "You can download the MobileNet without the classification head:\n",
        "https://tfhub.dev/s?module-type=image-feature-vector&q=tf2\n"
      ]
    },
    {
      "cell_type": "code",
      "metadata": {
        "id": "mQM0BLn2OW1N"
      },
      "source": [
        "MobileNet_feature_extractor_url = \"https://tfhub.dev/google/tf2-preview/mobilenet_v2/feature_vector/2\" #@param {type:\"string\"}"
      ],
      "execution_count": null,
      "outputs": []
    },
    {
      "cell_type": "code",
      "metadata": {
        "id": "F1strcPNOWvb"
      },
      "source": [
        "MobileNet_feature_extractor_layer = hub.KerasLayer(MobileNet_feature_extractor_url, input_shape=(224, 224, 3))"
      ],
      "execution_count": null,
      "outputs": []
    },
    {
      "cell_type": "code",
      "metadata": {
        "id": "UZToCmogOWqq"
      },
      "source": [
        "feature_batch = MobileNet_feature_extractor_layer(flowers_data_input_batch)\n",
        "print(feature_batch.shape)"
      ],
      "execution_count": null,
      "outputs": []
    },
    {
      "cell_type": "code",
      "metadata": {
        "id": "TRp982BbOvcX"
      },
      "source": [
        "MobileNet_feature_extractor_layer.trainable = False"
      ],
      "execution_count": null,
      "outputs": []
    },
    {
      "cell_type": "code",
      "metadata": {
        "id": "gqdV_tFrbD2f"
      },
      "source": [
        "flowers_data.num_classes"
      ],
      "execution_count": null,
      "outputs": []
    },
    {
      "cell_type": "code",
      "metadata": {
        "id": "_f-f2RvLOvaQ"
      },
      "source": [
        "# Build a model with two pieces:\n",
        "#    (1)  MobileNet Feature Extractor \n",
        "#    (2)  Dense Network (classifier) added at the end \n",
        "\n",
        "model = tf.keras.Sequential([\n",
        "  MobileNet_feature_extractor_layer,\n",
        "  tf.keras.layers.Dense(flowers_data.num_classes, activation='softmax')\n",
        "])\n",
        "\n",
        "model.summary()"
      ],
      "execution_count": null,
      "outputs": []
    },
    {
      "cell_type": "code",
      "metadata": {
        "id": "VGXtuy8MOvX1"
      },
      "source": [
        "predictions = model(flowers_data_input_batch)"
      ],
      "execution_count": null,
      "outputs": []
    },
    {
      "cell_type": "code",
      "metadata": {
        "id": "xerYOMGTOvVP"
      },
      "source": [
        "predictions.shape"
      ],
      "execution_count": null,
      "outputs": []
    },
    {
      "cell_type": "code",
      "metadata": {
        "id": "vpL6XcY4PENx"
      },
      "source": [
        "model.compile(optimizer=tf.keras.optimizers.Adam(), loss='categorical_crossentropy', metrics=['accuracy'])"
      ],
      "execution_count": null,
      "outputs": []
    },
    {
      "cell_type": "code",
      "metadata": {
        "id": "HdvdGutxPEL8"
      },
      "source": [
        "history = model.fit_generator(flowers_data, epochs=50)"
      ],
      "execution_count": null,
      "outputs": []
    },
    {
      "cell_type": "code",
      "metadata": {
        "id": "UwiX69mKPEKK"
      },
      "source": [
        "for i, layer in enumerate(model.layers):\n",
        "    print(i, layer.name)"
      ],
      "execution_count": null,
      "outputs": []
    },
    {
      "cell_type": "markdown",
      "metadata": {
        "id": "0wR3uKW8g5po"
      },
      "source": [
        "# STEP #6: EVALUATE THE MODEL"
      ]
    },
    {
      "cell_type": "code",
      "metadata": {
        "id": "EwEaiszcQCMZ"
      },
      "source": [
        "class_names = sorted(flowers_data.class_indices.items(), key=lambda pair:pair[1])\n",
        "class_names = np.array([key.title() for key, value in class_names])\n",
        "class_names"
      ],
      "execution_count": null,
      "outputs": []
    },
    {
      "cell_type": "code",
      "metadata": {
        "id": "wdLrV1C-QCO-"
      },
      "source": [
        "predicted_batch = model.predict(flowers_data_input_batch)\n",
        "predicted_id = np.argmax(predicted_batch, axis=-1)\n",
        "predicted_label_batch = class_names[predicted_id]"
      ],
      "execution_count": null,
      "outputs": []
    },
    {
      "cell_type": "code",
      "metadata": {
        "id": "_pS5qikjQN1Y"
      },
      "source": [
        "label_id = np.argmax(flowers_data_output_batch, axis=-1)"
      ],
      "execution_count": null,
      "outputs": []
    },
    {
      "cell_type": "code",
      "metadata": {
        "id": "2F1rKcFeQRAu"
      },
      "source": [
        "label_id"
      ],
      "execution_count": null,
      "outputs": []
    },
    {
      "cell_type": "code",
      "metadata": {
        "id": "00FfR9mCQVcy"
      },
      "source": [
        "plt.figure(figsize=(10,9))\n",
        "plt.subplots_adjust(hspace=0.5)\n",
        "\n",
        "for n in range(64):\n",
        "  plt.subplot(8,8,n+1)\n",
        "  plt.imshow(flowers_data_input_batch[n])\n",
        "  color = \"green\" if predicted_id[n] == label_id[n] else \"red\"\n",
        "  plt.title(predicted_label_batch[n].title(), color=color)\n",
        "  plt.axis('off')\n"
      ],
      "execution_count": null,
      "outputs": []
    },
    {
      "cell_type": "markdown",
      "metadata": {
        "id": "J7pUBTXMw75-"
      },
      "source": [
        "# GREAT JOB!"
      ]
    }
  ]
}